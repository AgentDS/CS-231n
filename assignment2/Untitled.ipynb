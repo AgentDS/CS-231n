{
 "cells": [
  {
   "cell_type": "code",
   "execution_count": 1,
   "metadata": {},
   "outputs": [],
   "source": [
    "import numpy as np"
   ]
  },
  {
   "cell_type": "code",
   "execution_count": 2,
   "metadata": {},
   "outputs": [
    {
     "data": {
      "text/plain": [
       "(6,)"
      ]
     },
     "execution_count": 2,
     "metadata": {},
     "output_type": "execute_result"
    }
   ],
   "source": [
    "N = 4\n",
    "M = 6\n",
    "x = np.zeros(shape=(N,M))\n",
    "np.sum(x,axis=0).shape"
   ]
  },
  {
   "cell_type": "code",
   "execution_count": 5,
   "metadata": {},
   "outputs": [],
   "source": [
    "input_dim = 20\n",
    "num_classes = 10\n",
    "weight_scale = 0.4\n",
    "params = {}\n",
    "hidden_dims = [2,3,4,5,6]\n",
    "num_layers = len(hidden_layer)+1\n",
    "params['W1'] = np.random.normal(scale=weight_scale, size=(input_dim, hidden_dims[0]))\n",
    "params['b1'] = np.zeros(shape=hidden_dims[0])\n",
    "for i in range(num_layers - 1):\n",
    "    in_dim = hidden_dims[i]\n",
    "    if i == num_layers - 2:\n",
    "        out_dim = num_classes\n",
    "    else:\n",
    "        out_dim = hidden_dims[i + 1]\n",
    "    weight_name = 'W%d' % (i + 2)\n",
    "    bias_name = 'b%d' % (i + 2)\n",
    "    weight = np.random.normal(scale=weight_scale, size=(in_dim, out_dim))\n",
    "    bias = np.zeros(shape=out_dim)\n",
    "    params[weight_name] = weight\n",
    "    params[bias_name] = bias"
   ]
  },
  {
   "cell_type": "code",
   "execution_count": 2,
   "metadata": {},
   "outputs": [
    {
     "data": {
      "text/plain": [
       "array([ 7.77156117e-17,  2.22044605e-17,  0.00000000e+00, -1.11022302e-17,\n",
       "        3.33066907e-17])"
      ]
     },
     "execution_count": 2,
     "metadata": {},
     "output_type": "execute_result"
    }
   ],
   "source": [
    "N =10\n",
    "D = 5\n",
    "x = np.random.rand(N,D)\n",
    "mean = np.mean(x,axis=0)\n",
    "np.mean(mean-x,axis=0)"
   ]
  },
  {
   "cell_type": "code",
   "execution_count": 3,
   "metadata": {},
   "outputs": [
    {
     "data": {
      "text/plain": [
       "[0, 1, 2, 3, 4]"
      ]
     },
     "execution_count": 3,
     "metadata": {},
     "output_type": "execute_result"
    }
   ],
   "source": [
    "[i for i in range(5)]"
   ]
  },
  {
   "cell_type": "code",
   "execution_count": 22,
   "metadata": {},
   "outputs": [],
   "source": [
    "N = 10\n",
    "F = 2\n",
    "C = 3\n",
    "H_ = 100\n",
    "W_ = 200\n",
    "WW = 50\n",
    "HH = 70\n",
    "x = np.ones(shape=(N,F,H_,W_))"
   ]
  },
  {
   "cell_type": "code",
   "execution_count": 23,
   "metadata": {},
   "outputs": [
    {
     "data": {
      "text/plain": [
       "(2,)"
      ]
     },
     "execution_count": 23,
     "metadata": {},
     "output_type": "execute_result"
    }
   ],
   "source": [
    "np.sum(x,axis=(0,2,3)).shape"
   ]
  },
  {
   "cell_type": "code",
   "execution_count": 27,
   "metadata": {},
   "outputs": [],
   "source": [
    "w = np.ones(shape=(N,C,HH,WW))\n",
    "dout = np.ones(shape=(N,F,H_,W_))"
   ]
  },
  {
   "cell_type": "code",
   "execution_count": 31,
   "metadata": {},
   "outputs": [
    {
     "data": {
      "text/plain": [
       "(10, 3)"
      ]
     },
     "execution_count": 31,
     "metadata": {},
     "output_type": "execute_result"
    }
   ],
   "source": [
    "np.max(w,axis=(2,3)).shape"
   ]
  },
  {
   "cell_type": "code",
   "execution_count": 18,
   "metadata": {},
   "outputs": [],
   "source": [
    "x_partial = np.ones(shape=(N,C*HH*WW))"
   ]
  },
  {
   "cell_type": "code",
   "execution_count": 21,
   "metadata": {},
   "outputs": [
    {
     "data": {
      "text/plain": [
       "(2, 60000)"
      ]
     },
     "execution_count": 21,
     "metadata": {},
     "output_type": "execute_result"
    }
   ],
   "source": [
    "np.einsum('ij,ik->jk',dout,x_partial).shape"
   ]
  },
  {
   "cell_type": "code",
   "execution_count": 37,
   "metadata": {},
   "outputs": [],
   "source": [
    "WW = 5\n",
    "HH = 7\n",
    "N = 3\n",
    "x = np.random.rand(N,C,HH,WW)"
   ]
  },
  {
   "cell_type": "code",
   "execution_count": 38,
   "metadata": {},
   "outputs": [
    {
     "data": {
      "text/plain": [
       "0.9965293115602337"
      ]
     },
     "execution_count": 38,
     "metadata": {},
     "output_type": "execute_result"
    }
   ],
   "source": [
    "np.max(x[0,0,:,:])"
   ]
  },
  {
   "cell_type": "code",
   "execution_count": 39,
   "metadata": {},
   "outputs": [
    {
     "data": {
      "text/plain": [
       "array([[0.03991753, 0.60155322, 0.8114526 , 0.21845075, 0.37898535],\n",
       "       [0.20781322, 0.16123876, 0.66492253, 0.13537356, 0.65107088],\n",
       "       [0.5628385 , 0.78695356, 0.39395648, 0.42818142, 0.7065861 ],\n",
       "       [0.36266089, 0.72393298, 0.99652931, 0.65743306, 0.0657357 ],\n",
       "       [0.71680211, 0.85522598, 0.57688289, 0.77807055, 0.96555817],\n",
       "       [0.56270965, 0.46987833, 0.05588854, 0.92408407, 0.6504302 ],\n",
       "       [0.56748879, 0.58473481, 0.55535444, 0.50410276, 0.72103534]])"
      ]
     },
     "execution_count": 39,
     "metadata": {},
     "output_type": "execute_result"
    }
   ],
   "source": [
    "x[0,0,:,:]"
   ]
  },
  {
   "cell_type": "code",
   "execution_count": 42,
   "metadata": {},
   "outputs": [
    {
     "data": {
      "text/plain": [
       "(3, 2)"
      ]
     },
     "execution_count": 42,
     "metadata": {},
     "output_type": "execute_result"
    }
   ],
   "source": [
    "np.unravel_index(np.argmax(x[0,0,:,:]),[HH,WW])"
   ]
  },
  {
   "cell_type": "code",
   "execution_count": 2,
   "metadata": {},
   "outputs": [],
   "source": [
    "N, C, H, W = 10, 3, 5, 5\n",
    "x = np.ones(shape=(N, C, H, W))\n"
   ]
  },
  {
   "cell_type": "code",
   "execution_count": 9,
   "metadata": {},
   "outputs": [
    {
     "data": {
      "text/plain": [
       "(10, 5, 5, 3)"
      ]
     },
     "execution_count": 9,
     "metadata": {},
     "output_type": "execute_result"
    }
   ],
   "source": [
    "x_T.shape # N x H x W x C"
   ]
  },
  {
   "cell_type": "code",
   "execution_count": 4,
   "metadata": {},
   "outputs": [
    {
     "data": {
      "text/plain": [
       "(5,)"
      ]
     },
     "execution_count": 4,
     "metadata": {},
     "output_type": "execute_result"
    }
   ],
   "source": [
    "x.mean(axis=(0,1,2)).shape"
   ]
  },
  {
   "cell_type": "code",
   "execution_count": null,
   "metadata": {},
   "outputs": [],
   "source": []
  }
 ],
 "metadata": {
  "kernelspec": {
   "display_name": "Python [conda env:csci599]",
   "language": "python",
   "name": "conda-env-csci599-py"
  },
  "language_info": {
   "codemirror_mode": {
    "name": "ipython",
    "version": 3
   },
   "file_extension": ".py",
   "mimetype": "text/x-python",
   "name": "python",
   "nbconvert_exporter": "python",
   "pygments_lexer": "ipython3",
   "version": "3.6.8"
  }
 },
 "nbformat": 4,
 "nbformat_minor": 2
}
