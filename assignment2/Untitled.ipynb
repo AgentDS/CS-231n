{
 "cells": [
  {
   "cell_type": "code",
   "execution_count": 1,
   "metadata": {},
   "outputs": [],
   "source": [
    "import numpy as np"
   ]
  },
  {
   "cell_type": "code",
   "execution_count": 7,
   "metadata": {},
   "outputs": [
    {
     "data": {
      "text/plain": [
       "(6,)"
      ]
     },
     "execution_count": 7,
     "metadata": {},
     "output_type": "execute_result"
    }
   ],
   "source": [
    "N = 4\n",
    "M = 6\n",
    "x = np.zeros(shape=(N,M))\n",
    "np.sum(x,axis=0).shape"
   ]
  },
  {
   "cell_type": "code",
   "execution_count": 5,
   "metadata": {},
   "outputs": [],
   "source": [
    "input_dim = 20\n",
    "num_classes = 10\n",
    "weight_scale = 0.4\n",
    "params = {}\n",
    "hidden_dims = [2,3,4,5,6]\n",
    "num_layers = len(hidden_layer)+1\n",
    "params['W1'] = np.random.normal(scale=weight_scale, size=(input_dim, hidden_dims[0]))\n",
    "params['b1'] = np.zeros(shape=hidden_dims[0])\n",
    "for i in range(num_layers - 1):\n",
    "    in_dim = hidden_dims[i]\n",
    "    if i == num_layers - 2:\n",
    "        out_dim = num_classes\n",
    "    else:\n",
    "        out_dim = hidden_dims[i + 1]\n",
    "    weight_name = 'W%d' % (i + 2)\n",
    "    bias_name = 'b%d' % (i + 2)\n",
    "    weight = np.random.normal(scale=weight_scale, size=(in_dim, out_dim))\n",
    "    bias = np.zeros(shape=out_dim)\n",
    "    params[weight_name] = weight\n",
    "    params[bias_name] = bias"
   ]
  },
  {
   "cell_type": "code",
   "execution_count": 2,
   "metadata": {},
   "outputs": [
    {
     "data": {
      "text/plain": [
       "array([ 7.77156117e-17,  2.22044605e-17,  0.00000000e+00, -1.11022302e-17,\n",
       "        3.33066907e-17])"
      ]
     },
     "execution_count": 2,
     "metadata": {},
     "output_type": "execute_result"
    }
   ],
   "source": [
    "N =10\n",
    "D = 5\n",
    "x = np.random.rand(N,D)\n",
    "mean = np.mean(x,axis=0)\n",
    "np.mean(mean-x,axis=0)"
   ]
  },
  {
   "cell_type": "code",
   "execution_count": 10,
   "metadata": {},
   "outputs": [
    {
     "data": {
      "text/plain": [
       "(5,)"
      ]
     },
     "execution_count": 10,
     "metadata": {},
     "output_type": "execute_result"
    }
   ],
   "source": [
    "np.mean(var-X,axis=0).shape"
   ]
  },
  {
   "cell_type": "code",
   "execution_count": 8,
   "metadata": {},
   "outputs": [
    {
     "data": {
      "text/plain": [
       "(10, 5)"
      ]
     },
     "execution_count": 8,
     "metadata": {},
     "output_type": "execute_result"
    }
   ],
   "source": [
    "np.outer(np.ones(N),np.ones(D)).shape"
   ]
  },
  {
   "cell_type": "code",
   "execution_count": null,
   "metadata": {},
   "outputs": [],
   "source": []
  }
 ],
 "metadata": {
  "kernelspec": {
   "display_name": "Python [conda env:csci599]",
   "language": "python",
   "name": "conda-env-csci599-py"
  },
  "language_info": {
   "codemirror_mode": {
    "name": "ipython",
    "version": 3
   },
   "file_extension": ".py",
   "mimetype": "text/x-python",
   "name": "python",
   "nbconvert_exporter": "python",
   "pygments_lexer": "ipython3",
   "version": "3.6.8"
  }
 },
 "nbformat": 4,
 "nbformat_minor": 2
}
