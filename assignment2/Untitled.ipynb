{
 "cells": [
  {
   "cell_type": "code",
   "execution_count": 2,
   "metadata": {},
   "outputs": [],
   "source": [
    "import numpy as np"
   ]
  },
  {
   "cell_type": "code",
   "execution_count": 7,
   "metadata": {},
   "outputs": [
    {
     "data": {
      "text/plain": [
       "(6,)"
      ]
     },
     "execution_count": 7,
     "metadata": {},
     "output_type": "execute_result"
    }
   ],
   "source": [
    "N = 4\n",
    "M = 6\n",
    "x = np.zeros(shape=(N,M))\n",
    "np.sum(x,axis=0).shape"
   ]
  },
  {
   "cell_type": "code",
   "execution_count": 5,
   "metadata": {},
   "outputs": [],
   "source": [
    "input_dim = 20\n",
    "num_classes = 10\n",
    "weight_scale = 0.4\n",
    "params = {}\n",
    "hidden_dims = [2,3,4,5,6]\n",
    "num_layers = len(hidden_layer)+1\n",
    "params['W1'] = np.random.normal(scale=weight_scale, size=(input_dim, hidden_dims[0]))\n",
    "params['b1'] = np.zeros(shape=hidden_dims[0])\n",
    "for i in range(num_layers - 1):\n",
    "    in_dim = hidden_dims[i]\n",
    "    if i == num_layers - 2:\n",
    "        out_dim = num_classes\n",
    "    else:\n",
    "        out_dim = hidden_dims[i + 1]\n",
    "    weight_name = 'W%d' % (i + 2)\n",
    "    bias_name = 'b%d' % (i + 2)\n",
    "    weight = np.random.normal(scale=weight_scale, size=(in_dim, out_dim))\n",
    "    bias = np.zeros(shape=out_dim)\n",
    "    params[weight_name] = weight\n",
    "    params[bias_name] = bias"
   ]
  },
  {
   "cell_type": "code",
   "execution_count": 10,
   "metadata": {},
   "outputs": [
    {
     "name": "stdout",
     "output_type": "stream",
     "text": [
      "5\n",
      "4\n",
      "3\n",
      "2\n",
      "1\n"
     ]
    }
   ],
   "source": [
    "for i in range(num_layers-1,0,-1):\n",
    "    print(i)"
   ]
  },
  {
   "cell_type": "code",
   "execution_count": null,
   "metadata": {},
   "outputs": [],
   "source": []
  }
 ],
 "metadata": {
  "kernelspec": {
   "display_name": "Python [conda env:csci599]",
   "language": "python",
   "name": "conda-env-csci599-py"
  },
  "language_info": {
   "codemirror_mode": {
    "name": "ipython",
    "version": 3
   },
   "file_extension": ".py",
   "mimetype": "text/x-python",
   "name": "python",
   "nbconvert_exporter": "python",
   "pygments_lexer": "ipython3",
   "version": "3.6.8"
  }
 },
 "nbformat": 4,
 "nbformat_minor": 2
}
